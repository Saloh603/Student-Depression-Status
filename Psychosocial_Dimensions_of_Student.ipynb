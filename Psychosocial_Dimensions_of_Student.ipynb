{
  "nbformat": 4,
  "nbformat_minor": 0,
  "metadata": {
    "colab": {
      "private_outputs": true,
      "provenance": []
    },
    "kernelspec": {
      "name": "python3",
      "display_name": "Python 3"
    },
    "language_info": {
      "name": "python"
    }
  },
  "cells": [
    {
      "cell_type": "code",
      "execution_count": null,
      "metadata": {
        "id": "HVjfqX2eBzPP"
      },
      "outputs": [],
      "source": [
        "import pandas as pd\n",
        "import numpy as np"
      ]
    },
    {
      "cell_type": "code",
      "source": [
        "df = pd.read_csv('/content/drive/MyDrive/Realsoft/Psychosocial Dimensions of Student/CSE_student_performances[1].csv')"
      ],
      "metadata": {
        "id": "o6CSaaUoB_hM"
      },
      "execution_count": null,
      "outputs": []
    },
    {
      "cell_type": "code",
      "source": [
        "df.isnull().sum()\n",
        "df.fillna(df['NumberOfFriend'].median(), inplace=True)"
      ],
      "metadata": {
        "id": "K_frRnDzCKhp"
      },
      "execution_count": null,
      "outputs": []
    },
    {
      "cell_type": "code",
      "source": [
        "df"
      ],
      "metadata": {
        "id": "ci6XU_-EC-gz"
      },
      "execution_count": null,
      "outputs": []
    },
    {
      "cell_type": "code",
      "source": [
        "X = df.drop(['DepressionStatus'], axis=1)\n",
        "y = df['DepressionStatus']"
      ],
      "metadata": {
        "id": "DJNEzKw9DUWa"
      },
      "execution_count": null,
      "outputs": []
    },
    {
      "cell_type": "code",
      "source": [
        "from sklearn.preprocessing import LabelEncoder, OrdinalEncoder, StandardScaler, OneHotEncoder\n",
        "from sklearn.pipeline import Pipeline\n",
        "from sklearn.compose import ColumnTransformer"
      ],
      "metadata": {
        "id": "2YVc6JGqDZQM"
      },
      "execution_count": null,
      "outputs": []
    },
    {
      "cell_type": "code",
      "source": [
        "ordinal = ['AcademicPerformance', 'TakingNoteInClass', 'FaceChallangesToCompleteAcademicTask', 'LikePresentation', 'LikeNewThings']\n",
        "scale = ['SleepPerDayHours', 'NumberOfFriend']\n",
        "ohe = ['Gender']"
      ],
      "metadata": {
        "id": "pBY6bTJhDb4i"
      },
      "execution_count": null,
      "outputs": []
    },
    {
      "cell_type": "code",
      "source": [
        "from sklearn.model_selection import train_test_split\n",
        "\n",
        "X_train, X_test, y_train, y_test = train_test_split(X, y, test_size=0.2, random_state=42)"
      ],
      "metadata": {
        "id": "BS_mo7riDcr9"
      },
      "execution_count": null,
      "outputs": []
    },
    {
      "cell_type": "code",
      "source": [
        "preprocessor = ColumnTransformer(\n",
        "    transformers=[\n",
        "        ('ordinal', OrdinalEncoder(), ordinal),\n",
        "        ('scale', StandardScaler(), scale),\n",
        "        ('ohe', OneHotEncoder(), ohe)\n",
        "    ])"
      ],
      "metadata": {
        "id": "yo3969ERDeJb"
      },
      "execution_count": null,
      "outputs": []
    },
    {
      "cell_type": "code",
      "source": [
        "from sklearn.ensemble import RandomForestClassifier\n",
        "\n",
        "pipeline = Pipeline([\n",
        "    ('preprocessor', preprocessor),\n",
        "    ('classifier', RandomForestClassifier())\n",
        "])"
      ],
      "metadata": {
        "id": "eNSUWdZvDgDz"
      },
      "execution_count": null,
      "outputs": []
    },
    {
      "cell_type": "code",
      "source": [
        "label = LabelEncoder()\n",
        "y_train_label = label.fit_transform(y_train)\n",
        "y_test_label = label.transform(y_test)"
      ],
      "metadata": {
        "id": "f7QAAdFjDhnU"
      },
      "execution_count": null,
      "outputs": []
    },
    {
      "cell_type": "code",
      "source": [
        "pipeline.fit(X_train, y_train_label)"
      ],
      "metadata": {
        "id": "GZeJksrBDjkM"
      },
      "execution_count": null,
      "outputs": []
    },
    {
      "cell_type": "code",
      "source": [
        "accuracy = pipeline.score(X_test, y_test_label)\n",
        "print(f'Model Accuracy: {accuracy}')"
      ],
      "metadata": {
        "id": "WpDnCU9EDptF"
      },
      "execution_count": null,
      "outputs": []
    },
    {
      "cell_type": "code",
      "source": [
        "import joblib\n",
        "\n",
        "joblib.dump(pipeline, 'DepressionStatus.pkl')"
      ],
      "metadata": {
        "id": "YoAJTqtWDp_3"
      },
      "execution_count": null,
      "outputs": []
    },
    {
      "cell_type": "code",
      "source": [
        "# Assuming 'pipeline' is your pre-trained model and 'X_test' is your test dataset\n",
        "\n",
        "# Select the first instance from your test set\n",
        "test_instance = X_test.iloc[0]\n",
        "\n",
        "# Make a prediction\n",
        "prediction = pipeline.predict(pd.DataFrame([X.iloc[1]]))\n",
        "\n",
        "# Print the prediction\n",
        "print(\"Prediction for the first test instance:\", prediction)\n"
      ],
      "metadata": {
        "id": "DnZi-5DhGRQS"
      },
      "execution_count": null,
      "outputs": []
    },
    {
      "cell_type": "code",
      "source": [
        "X.iloc[1].to_dict()"
      ],
      "metadata": {
        "id": "pLJOXG70Gw7-"
      },
      "execution_count": null,
      "outputs": []
    }
  ]
}